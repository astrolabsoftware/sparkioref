{
 "cells": [
  {
   "cell_type": "markdown",
   "metadata": {},
   "source": [
    "# Benchmarking Apache Spark IO"
   ]
  },
  {
   "cell_type": "markdown",
   "metadata": {},
   "source": [
    "In this notebook we look at the Apache Spark performance in reading, decoding and distributing data from various data formats: CSV, FITS, and PARQUET. \n",
    "\n",
    "Author: Julien Peloton"
   ]
  },
  {
   "cell_type": "markdown",
   "metadata": {},
   "source": [
    "### Using a pyspark notebook on a cluster"
   ]
  },
  {
   "cell_type": "markdown",
   "metadata": {},
   "source": [
    "In order to launch this notebook from a cluster:\n",
    "\n",
    "```bash\n",
    "PYSPARK_DRIVER_PYTHON_OPTS=\"/opt/anaconda/bin/jupyter-notebook --no-browser --port=24500\" pyspark \\ \n",
    "    --master spark://134.158.75.222:7077 \\\n",
    "    --driver-memory 4g --executor-memory 28g \\\n",
    "    --executor-cores 17 --total-executor-cores 153 \\\n",
    "    --packages com.github.astrolabsoftware:spark-fits_2.11:0.6.0\n",
    "```\n",
    "\n",
    "Just adapt the port number, the master URL, and the resources to yours. Note that you need [spark-fits](https://github.com/astrolabsoftware/spark-fits) to process natively FITS with Apache Spark (just link using `--packages`)."
   ]
  },
  {
   "cell_type": "code",
   "execution_count": 8,
   "metadata": {},
   "outputs": [],
   "source": [
    "from pyspark.sql import SparkSession\n",
    "\n",
    "# Get our Spark Session active\n",
    "spark = SparkSession.builder.getOrCreate()"
   ]
  },
  {
   "cell_type": "markdown",
   "metadata": {},
   "source": [
    "### Useful routines: loading data from a distributed file system"
   ]
  },
  {
   "cell_type": "code",
   "execution_count": 77,
   "metadata": {},
   "outputs": [],
   "source": [
    "# Define useful routines for later\n",
    "from pyspark.sql import DataFrame\n",
    "\n",
    "def load_data_from_hdfs(file_path: str, extension: str) -> DataFrame:\n",
    "    \"\"\" Make a DataFrame with data stored on HDFS.\n",
    "    The options used to load the data depend on the data format.\n",
    "    \n",
    "    Parameters\n",
    "    ----------\n",
    "    file_path : str\n",
    "        URI to the data.\n",
    "    extension : str\n",
    "        File extension, e.g. 'fits', or 'parquet'.\n",
    "        \n",
    "    Returns\n",
    "    ----------\n",
    "    spark.sql DataFrame, with 3 columns.\n",
    "    \n",
    "    \"\"\"\n",
    "    # Common syntax for all format\n",
    "    df_no_option = spark.read.format(extension)\n",
    "    \n",
    "    # format-specific options\n",
    "    if extension == \"fits\":\n",
    "        df_w_options = df_no_option.option(\"hdu\", 1)\n",
    "    elif extension == \"csv\" or extension == \"json\":\n",
    "        df_w_options = df_no_option.option(\"header\", True)\n",
    "    elif extension == \"parquet\":\n",
    "        df_w_options = df_no_option\n",
    "\n",
    "    # Path to the data\n",
    "    df = df_w_options.option(\"columns\", \"RA,Dec,Z_COSMO\").load(file_path)\n",
    "    \n",
    "    return df\n",
    "\n",
    "def replicate_dataset(\n",
    "        df: DataFrame, file_path: str, extension: str, \n",
    "        replication: int, count: int=0) -> DataFrame:\n",
    "    \"\"\"\n",
    "    Artificially increase the size of the DataFrame `df` by\n",
    "    adding replication to it.\n",
    "\n",
    "    Parameters\n",
    "    ----------\n",
    "    df : DataFrame\n",
    "        The initial DataFrame\n",
    "    file_path : str\n",
    "        The path to the dataset to add\n",
    "    extension : str\n",
    "        File extension: csv, fits, parquet, etc.\n",
    "    replication : int\n",
    "        Number of replication to artificially increase the size of it.\n",
    "        Note that a DataFrame union is performed under the hood. \n",
    "        A replication of 0 returns the initial DataFrame.\n",
    "    count : int, optional\n",
    "        Internal counter used for the recursion.\n",
    "\n",
    "    Returns\n",
    "    ----------\n",
    "    df2 : DataFrame\n",
    "        A DataFrame made of df + df_rep x numit.\n",
    "\n",
    "    \"\"\"\n",
    "    if count == replication:\n",
    "        return df\n",
    "    else:\n",
    "        df2 = load_data_from_hdfs(file_path, extension).union(df)\n",
    "        return replicate_dataset(\n",
    "            df2, file_path, extension, replication, count + 1)\n"
   ]
  },
  {
   "cell_type": "markdown",
   "metadata": {},
   "source": [
    "## Benchmarking the performances"
   ]
  },
  {
   "cell_type": "markdown",
   "metadata": {},
   "source": [
    "We loop over the different file format (FITS, PARQUET, CSV), and for each we load and decode the data stored on the distributed file system and we distribute it over the machines. Finally we count the total number of objects loaded. We record the total time to execute these operations.\n",
    "\n",
    "In addition, once the data is loaded the first time, we keep it in-memory such that the later calls are performed faster. This is one of Spark's advantage over Hadoop's traditional MapReduce for example."
   ]
  },
  {
   "cell_type": "code",
   "execution_count": 58,
   "metadata": {},
   "outputs": [],
   "source": [
    "import os\n",
    "from time import time\n",
    "from pyspark import StorageLevel\n",
    "\n",
    "# Parameters - to be changed by the user!\n",
    "\n",
    "# Available file extensions\n",
    "extensions = [\"fits\", \"parquet\", \"csv\"]\n",
    "\n",
    "# Where the data is?\n",
    "uri_base = \"hdfs://134.158.75.222:8020//user/julien.peloton\"\n",
    "\n",
    "# Number of loops to perform (MC)\n",
    "nloop = 100\n",
    "\n",
    "# How many DataFrame to add \n",
    "replication = 9\n",
    "\n",
    "# Should we keep the data in-memory after loading it?\n",
    "in_memory = True\n",
    "\n",
    "# Looping over the different data format\n",
    "rdds = []\n",
    "for extension in extensions:\n",
    "    # Load the data\n",
    "    fn = os.path.join(uri_base, \"LSST1Y{}\".format(extension.upper()))\n",
    "    df = load_data_from_hdfs(fn, extension)\n",
    "\n",
    "    # Replicate if needed\n",
    "    df = replicate_dataset(df, fn, extension, replication)\n",
    "\n",
    "    # Cache the data if needed\n",
    "    if in_memory:\n",
    "        df = df.persist(StorageLevel.MEMORY_ONLY_SER)\n",
    "\n",
    "    times = []\n",
    "    for index in range(nloop):\n",
    "        # Loop over iterations\n",
    "        t0 = time()\n",
    "        result = df.count()\n",
    "        t1 = time()\n",
    "        # Note you would keep a trailing comma\n",
    "        # for a single element.\n",
    "        times.append((t1-t0, result))\n",
    "    rdds.append(spark.sparkContext.parallelize(times))"
   ]
  },
  {
   "cell_type": "markdown",
   "metadata": {},
   "source": [
    "### Visualise the result"
   ]
  },
  {
   "cell_type": "code",
   "execution_count": 76,
   "metadata": {
    "scrolled": false
   },
   "outputs": [
    {
     "data": {
      "text/plain": [
       "Text(0.5,0,'time (second)')"
      ]
     },
     "execution_count": 76,
     "metadata": {},
     "output_type": "execute_result"
    },
    {
     "data": {
      "image/png": "[encoded data removed]",
      "text/plain": [
       "<Figure size 864x504 with 1 Axes>"
      ]
     },
     "metadata": {},
     "output_type": "display_data"
    }
   ],
   "source": [
    "from pyspark.sql.types import *\n",
    "import pylab as pl\n",
    "\n",
    "colors = {\"fits\": \"C0\", \"csv\": \"C1\", \"parquet\": \"C2\"}\n",
    "\n",
    "# Loop over the RDD\n",
    "for index, (extension, rdd) in enumerate(zip(extensions, rdds)):\n",
    "    colname = \"Times from {}\".format(extension)\n",
    "    \n",
    "    # Build a DataFrame from the RDD\n",
    "    # We need to specify the schema\n",
    "    schema = StructType([\n",
    "        StructField(colname, DoubleType(), True),\n",
    "        StructField(\"Count\", LongType(), True)])\n",
    "    df_times = rdd.toDF(schema).toPandas()\n",
    "    mean = df_times[1:].mean()[colname]\n",
    "    \n",
    "    # Plot the data as histogram\n",
    "    if index == 0:    \n",
    "        ax = df_times[1:].hist(\n",
    "            colname,\n",
    "            label=extension + \" ({:.3f} s)\".format(mean),\n",
    "            figsize=(12, 7),\n",
    "            color=colors[extension])\n",
    "    else:\n",
    "        df_times[1:].hist(\n",
    "            colname,\n",
    "            ax=ax,\n",
    "            label=extension + \" ({:.3f} s)\".format(mean),\n",
    "            color=colors[extension])\n",
    "\n",
    "    # Add the mean of each distribution\n",
    "    pl.axvline(mean, color=colors[extension], ls='--')\n",
    "\n",
    "pl.legend(fontsize=15)\n",
    "pl.title(\"Benchmark in-memory (370 million objects)\", fontsize=20)\n",
    "pl.xlabel(\"time (second)\", fontsize=20)"
   ]
  },
  {
   "cell_type": "markdown",
   "metadata": {},
   "source": [
    "**Caption**: Per-iteration running time for each of the data format to load and read a data set with 370 million galaxies (RA, Dec, Z): FITS (blue), PARQUET (green) and CSV (orange).\n",
    "We show only the timing once the data reside in-memory (that is for 1 < iteration < 100).\n",
    "In the legend, the numbers in parenthesis are the means of each distribution.\n",
    "This run has been performed on a dedicated cluster installed at Université Paris-Sud, Cloud@VirtualData, France with 9 Spark executors (machines), each having 17 cores and 30 gigabytes (GB) of RAM total. The amount of memory dedicated to the caching of data is 162 GB across the cluster. We use a HDFS cluster for storage with 9 DataNotes, each of 3.9 terabytes (TB), and with 128 megabytes (MB) file block size."
   ]
  },
  {
   "cell_type": "code",
   "execution_count": null,
   "metadata": {},
   "outputs": [],
   "source": []
  }
 ],
 "metadata": {
  "kernelspec": {
   "display_name": "Python 3",
   "language": "python",
   "name": "python3"
  },
  "language_info": {
   "codemirror_mode": {
    "name": "ipython",
    "version": 3
   },
   "file_extension": ".py",
   "mimetype": "text/x-python",
   "name": "python",
   "nbconvert_exporter": "python",
   "pygments_lexer": "ipython3",
   "version": "3.6.5"
  }
 },
 "nbformat": 4,
 "nbformat_minor": 2
}
